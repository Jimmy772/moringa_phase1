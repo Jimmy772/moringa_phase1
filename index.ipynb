{
 "cells": [
  {
   "attachments": {},
   "cell_type": "markdown",
   "metadata": {},
   "source": [
    "# Microsofts's New Movie Studio"
   ]
  },
  {
   "attachments": {},
   "cell_type": "markdown",
   "metadata": {},
   "source": [
    "## Overview\n",
    "### Problem \n",
    "- Okay, so Microsoft sees other big companies making cool video content and wants to join in. They're starting their own movie studio, but they're clueless about making movies. That's where I come in. I have to find out which types of films are doing well at the box office and translate that into actionable insights for the head of Microsoft's studio. This will help them decide what kind of films to create.\n",
    "### Data Understanding \n",
    "- The data I have available to me come from a variety of movie databases.\n",
    "- The data represents various movie attributes. Key among them being revenue generated, popularity and ratings which will serve as our success metrics in this analysis.\n",
    "#### Questions to consider\n",
    "- Does expensive mean successfull?\n",
    "- Is studio important to success?\n",
    "- Are some genres more successful than others?"
   ]
  },
  {
   "cell_type": "code",
   "execution_count": 3,
   "metadata": {},
   "outputs": [],
   "source": [
    "# import relevant modules\n",
    "import pandas as pd\n",
    "import numpy as np\n",
    "from scipy import stats\n",
    "\n",
    "# visulization modules\n",
    "import matplotlib.pyplot as plt\n",
    "import seaborn as sns"
   ]
  },
  {
   "attachments": {},
   "cell_type": "markdown",
   "metadata": {},
   "source": [
    "### Data Preparation\n",
    "- Get a better representation of user rating\n",
    "- Fixing genre column in title.basics.csv"
   ]
  },
  {
   "attachments": {},
   "cell_type": "markdown",
   "metadata": {},
   "source": [
    "#### Getting a better representaion of user rating\n",
    "- I doesn't seem fair to compare films with an avergae rating of 4 with only 100 voters to that with 4 and 10,000 voters.\n",
    "- I will be using a method inspired by Bayesian probablity to  give a better representation of the rating.\n",
    "- More information on how this works can be found  [here](https://stackoverflow.com/a/50476254)"
   ]
  },
  {
   "cell_type": "code",
   "execution_count": 2,
   "metadata": {},
   "outputs": [],
   "source": [
    "# load the data\n",
    "ratings_df = pd.read_csv('data/title.ratings.csv')"
   ]
  },
  {
   "cell_type": "code",
   "execution_count": 5,
   "metadata": {},
   "outputs": [
    {
     "data": {
      "text/html": [
       "<div>\n",
       "<style scoped>\n",
       "    .dataframe tbody tr th:only-of-type {\n",
       "        vertical-align: middle;\n",
       "    }\n",
       "\n",
       "    .dataframe tbody tr th {\n",
       "        vertical-align: top;\n",
       "    }\n",
       "\n",
       "    .dataframe thead th {\n",
       "        text-align: right;\n",
       "    }\n",
       "</style>\n",
       "<table border=\"1\" class=\"dataframe\">\n",
       "  <thead>\n",
       "    <tr style=\"text-align: right;\">\n",
       "      <th></th>\n",
       "      <th>tconst</th>\n",
       "      <th>averagerating</th>\n",
       "      <th>numvotes</th>\n",
       "      <th>bayesian_rating</th>\n",
       "    </tr>\n",
       "  </thead>\n",
       "  <tbody>\n",
       "    <tr>\n",
       "      <th>0</th>\n",
       "      <td>tt10356526</td>\n",
       "      <td>8.3</td>\n",
       "      <td>31</td>\n",
       "      <td>8.245912</td>\n",
       "    </tr>\n",
       "    <tr>\n",
       "      <th>1</th>\n",
       "      <td>tt10384606</td>\n",
       "      <td>8.9</td>\n",
       "      <td>559</td>\n",
       "      <td>8.895884</td>\n",
       "    </tr>\n",
       "    <tr>\n",
       "      <th>2</th>\n",
       "      <td>tt1042974</td>\n",
       "      <td>6.4</td>\n",
       "      <td>20</td>\n",
       "      <td>6.404582</td>\n",
       "    </tr>\n",
       "    <tr>\n",
       "      <th>3</th>\n",
       "      <td>tt1043726</td>\n",
       "      <td>4.2</td>\n",
       "      <td>50352</td>\n",
       "      <td>4.200044</td>\n",
       "    </tr>\n",
       "    <tr>\n",
       "      <th>4</th>\n",
       "      <td>tt1060240</td>\n",
       "      <td>6.5</td>\n",
       "      <td>21</td>\n",
       "      <td>6.500000</td>\n",
       "    </tr>\n",
       "  </tbody>\n",
       "</table>\n",
       "</div>"
      ],
      "text/plain": [
       "       tconst  averagerating  numvotes  bayesian_rating\n",
       "0  tt10356526            8.3        31         8.245912\n",
       "1  tt10384606            8.9       559         8.895884\n",
       "2   tt1042974            6.4        20         6.404582\n",
       "3   tt1043726            4.2     50352         4.200044\n",
       "4   tt1060240            6.5        21         6.500000"
      ]
     },
     "execution_count": 5,
     "metadata": {},
     "output_type": "execute_result"
    }
   ],
   "source": [
    "# Define the parameter R as the median of the averagerating column\n",
    "R = np.median(ratings_df['averagerating'])\n",
    "\n",
    "# Calculate the z-score for the 95% confidence level\n",
    "z = stats.norm.ppf(0.975)\n",
    "\n",
    "# Calculate W as z^2/4\n",
    "W = z**2/4\n",
    "\n",
    "# Calculate the Bayesian rating using the formula\n",
    "ratings_df[\"bayesian_rating\"] = (W * R + ratings_df[\"averagerating\"] * ratings_df[\"numvotes\"]) / (W + ratings_df[\"numvotes\"])\n",
    "\n",
    "# preview first 5 rows of the dataframe\n",
    "ratings_df.head()\n"
   ]
  },
  {
   "attachments": {},
   "cell_type": "markdown",
   "metadata": {},
   "source": [
    "#### Fixing genre column\n",
    "- convert items in genre column to a list"
   ]
  },
  {
   "cell_type": "code",
   "execution_count": 8,
   "metadata": {},
   "outputs": [],
   "source": [
    "# load the dat\n",
    "basics_df = pd.read_csv('data/title.basics.csv')"
   ]
  },
  {
   "cell_type": "code",
   "execution_count": 10,
   "metadata": {},
   "outputs": [
    {
     "data": {
      "text/plain": [
       "['Hello']"
      ]
     },
     "execution_count": 10,
     "metadata": {},
     "output_type": "execute_result"
    }
   ],
   "source": [
    "txt = 'Hello'\n",
    "[txt]"
   ]
  },
  {
   "cell_type": "code",
   "execution_count": 16,
   "metadata": {},
   "outputs": [],
   "source": [
    "def text_to_list(text):\n",
    "    # what to do if text is empty or not a string type\n",
    "    if text == '' or type(text) != str:\n",
    "        return np.nan\n",
    "    # check if text has a comma\n",
    "    elif ',' in text:\n",
    "        return text.split(',')\n",
    "    # what to do is text has no comma\n",
    "    else:\n",
    "        return [text]"
   ]
  },
  {
   "cell_type": "code",
   "execution_count": 17,
   "metadata": {},
   "outputs": [],
   "source": [
    "# apply text_to_list to genres column\n",
    "basics_df.loc[:, 'genres'] = basics_df['genres'].apply(text_to_list)"
   ]
  },
  {
   "cell_type": "code",
   "execution_count": 18,
   "metadata": {},
   "outputs": [
    {
     "data": {
      "text/plain": [
       "0           [Action, Crime, Drama]\n",
       "1               [Biography, Drama]\n",
       "2                          [Drama]\n",
       "3                  [Comedy, Drama]\n",
       "4         [Comedy, Drama, Fantasy]\n",
       "                    ...           \n",
       "146139                     [Drama]\n",
       "146140               [Documentary]\n",
       "146141                    [Comedy]\n",
       "146142                         NaN\n",
       "146143               [Documentary]\n",
       "Name: genres, Length: 146144, dtype: object"
      ]
     },
     "execution_count": 18,
     "metadata": {},
     "output_type": "execute_result"
    }
   ],
   "source": [
    "# previe results\n",
    "basics_df['genres']"
   ]
  },
  {
   "attachments": {},
   "cell_type": "markdown",
   "metadata": {},
   "source": [
    "### Data Analysis"
   ]
  },
  {
   "attachments": {},
   "cell_type": "markdown",
   "metadata": {},
   "source": [
    "#### Does Expensive mean successfull?\n",
    "##### Questions to answer?\n",
    "- Do more expensive films get better ratings?\n",
    "- Do more expensive films make more profit?\n",
    "- What genres on average cost the most to make?"
   ]
  },
  {
   "cell_type": "markdown",
   "metadata": {},
   "source": []
  }
 ],
 "metadata": {
  "kernelspec": {
   "display_name": "Python (learn-env)",
   "language": "python",
   "name": "learn-env"
  },
  "language_info": {
   "codemirror_mode": {
    "name": "ipython",
    "version": 3
   },
   "file_extension": ".py",
   "mimetype": "text/x-python",
   "name": "python",
   "nbconvert_exporter": "python",
   "pygments_lexer": "ipython3",
   "version": "3.10.11"
  },
  "orig_nbformat": 4
 },
 "nbformat": 4,
 "nbformat_minor": 2
}
